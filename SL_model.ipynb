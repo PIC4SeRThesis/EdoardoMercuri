{
  "cells": [
    {
      "cell_type": "markdown",
      "metadata": {
        "id": "GblqRluoaluh"
      },
      "source": [
        "# Import"
      ]
    },
    {
      "cell_type": "code",
      "execution_count": 1,
      "metadata": {
        "id": "a6YdElFiPCW6"
      },
      "outputs": [],
      "source": [
        "# Libraries import\n",
        "import numpy as np\n",
        "import matplotlib.pyplot as plt\n",
        "import scipy.io\n",
        "import tensorflow as tf\n",
        "from sklearn.model_selection import train_test_split\n",
        "from tensorflow import keras\n",
        "from keras import layers"
      ]
    },
    {
      "cell_type": "code",
      "execution_count": 2,
      "metadata": {
        "id": "9QUx2cmMRxmo"
      },
      "outputs": [],
      "source": [
        "# Datasets import\n",
        "y = scipy.io.loadmat('y_SL.mat')\n",
        "y = y.get('y')\n",
        "x = scipy.io.loadmat('x_SL.mat')\n",
        "x = x.get('x')"
      ]
    },
    {
      "cell_type": "markdown",
      "metadata": {
        "id": "MhspSqs_ae8I"
      },
      "source": [
        "# Preprocessing"
      ]
    },
    {
      "cell_type": "code",
      "execution_count": 7,
      "metadata": {
        "id": "dBBzMTMlyaB0"
      },
      "outputs": [],
      "source": [
        "# Datasets import\n",
        "delete=np.argwhere(y[:,1]>3)\n",
        "y = np.delete(y,delete[:,0],axis=0)\n",
        "x = np.delete(x,delete[:,0],axis=0)"
      ]
    },
    {
      "cell_type": "code",
      "execution_count": 8,
      "metadata": {
        "id": "XZqGu62xLlxU"
      },
      "outputs": [],
      "source": [
        "# Convert the first column to integers values. The first column of labels are the foot side, \"0\" for right, \"1\" for left\n",
        "y_class=y[:,0].astype(int)"
      ]
    },
    {
      "cell_type": "code",
      "execution_count": 9,
      "metadata": {
        "id": "bsYqx1SHAjh7"
      },
      "outputs": [],
      "source": [
        "Acc_range=16\n",
        "Gyr_range=2000\n",
        "\n",
        "# Scale the samples from 0 to 1\n",
        "x[:,:,0:3] = x[:,:,0:3] / (Acc_range*2*9.81) + 0.5\n",
        "x[:,:,3:6] = x[:,:,3:6]/ (Gyr_range*2) + 0.5\n",
        "x[:,:,6:9] = x[:,:,6:9] / (Acc_range*2*9.81) + 0.5\n",
        "x[:,:,9:12] = x[:,:,9:12]/ (Gyr_range*2) + 0.5"
      ]
    },
    {
      "cell_type": "code",
      "execution_count": 10,
      "metadata": {
        "id": "2UnXNdLC61BQ"
      },
      "outputs": [],
      "source": [
        "# Function to split a portion of data from the dataset and create a train and a test set\n",
        "x_train, x_test, y_train, y_test = train_test_split(x, y, test_size=0.2, random_state=42)"
      ]
    },
    {
      "cell_type": "markdown",
      "metadata": {
        "id": "Hz4HewX-ty0j"
      },
      "source": [
        "# Keras sequential"
      ]
    },
    {
      "cell_type": "code",
      "execution_count": 12,
      "metadata": {
        "id": "c7zNLG7Aou-U"
      },
      "outputs": [],
      "source": [
        "input_shape = x_train.shape[1:]"
      ]
    },
    {
      "cell_type": "markdown",
      "metadata": {
        "id": "moTWP-9UUqQx"
      },
      "source": [
        "Classification"
      ]
    },
    {
      "cell_type": "code",
      "execution_count": 17,
      "metadata": {
        "id": "h7EAPGTEs-Uc"
      },
      "outputs": [],
      "source": [
        "# Classification model building\n",
        "model = tf.keras.models.Sequential([\n",
        "                    keras.Input(shape=input_shape),\n",
        "                    layers.Flatten(),\n",
        "                    layers.Dense(2, activation='softmax')\n",
        "                                  ])"
      ]
    },
    {
      "cell_type": "code",
      "execution_count": 18,
      "metadata": {
        "id": "BK2afR6huWQ_"
      },
      "outputs": [],
      "source": [
        "# Model compilation\n",
        "model.compile(loss=tf.keras.losses.SparseCategoricalCrossentropy(),\n",
        "              optimizer=\"adam\",\n",
        "              metrics=[\"accuracy\"])"
      ]
    },
    {
      "cell_type": "code",
      "execution_count": 19,
      "metadata": {
        "colab": {
          "base_uri": "https://localhost:8080/"
        },
        "id": "q_BVXMCS2zC5",
        "outputId": "6656f953-9c60-4a7c-acf7-d95a94817a1b"
      },
      "outputs": [
        {
          "name": "stdout",
          "output_type": "stream",
          "text": [
            "Epoch 1/30\n"
          ]
        },
        {
          "name": "stdout",
          "output_type": "stream",
          "text": [
            "45/45 [==============================] - 1s 7ms/step - loss: 0.4995 - accuracy: 0.8229 - val_loss: 0.2556 - val_accuracy: 0.9831\n",
            "Epoch 2/30\n",
            "45/45 [==============================] - 0s 2ms/step - loss: 0.1739 - accuracy: 0.9908 - val_loss: 0.1342 - val_accuracy: 0.9803\n",
            "Epoch 3/30\n",
            "45/45 [==============================] - 0s 3ms/step - loss: 0.1018 - accuracy: 0.9901 - val_loss: 0.0993 - val_accuracy: 0.9831\n",
            "Epoch 4/30\n",
            "45/45 [==============================] - 0s 3ms/step - loss: 0.0751 - accuracy: 0.9908 - val_loss: 0.0910 - val_accuracy: 0.9803\n",
            "Epoch 5/30\n",
            "45/45 [==============================] - 0s 3ms/step - loss: 0.0627 - accuracy: 0.9908 - val_loss: 0.0794 - val_accuracy: 0.9831\n",
            "Epoch 6/30\n",
            "45/45 [==============================] - 0s 4ms/step - loss: 0.0573 - accuracy: 0.9908 - val_loss: 0.0756 - val_accuracy: 0.9803\n",
            "Epoch 7/30\n",
            "45/45 [==============================] - 0s 4ms/step - loss: 0.0517 - accuracy: 0.9908 - val_loss: 0.0734 - val_accuracy: 0.9803\n",
            "Epoch 8/30\n",
            "45/45 [==============================] - 0s 3ms/step - loss: 0.0488 - accuracy: 0.9908 - val_loss: 0.0708 - val_accuracy: 0.9831\n",
            "Epoch 9/30\n",
            "45/45 [==============================] - 0s 3ms/step - loss: 0.0492 - accuracy: 0.9901 - val_loss: 0.0725 - val_accuracy: 0.9803\n",
            "Epoch 10/30\n",
            "45/45 [==============================] - 0s 3ms/step - loss: 0.0467 - accuracy: 0.9908 - val_loss: 0.0747 - val_accuracy: 0.9803\n",
            "Epoch 11/30\n",
            "45/45 [==============================] - 0s 4ms/step - loss: 0.0456 - accuracy: 0.9908 - val_loss: 0.0729 - val_accuracy: 0.9803\n",
            "Epoch 12/30\n",
            "45/45 [==============================] - 0s 3ms/step - loss: 0.0444 - accuracy: 0.9908 - val_loss: 0.0740 - val_accuracy: 0.9803\n",
            "Epoch 13/30\n",
            "45/45 [==============================] - 0s 3ms/step - loss: 0.0436 - accuracy: 0.9908 - val_loss: 0.0676 - val_accuracy: 0.9831\n",
            "Epoch 14/30\n",
            "45/45 [==============================] - 0s 3ms/step - loss: 0.0449 - accuracy: 0.9908 - val_loss: 0.0724 - val_accuracy: 0.9803\n",
            "Epoch 15/30\n",
            "45/45 [==============================] - 0s 3ms/step - loss: 0.0420 - accuracy: 0.9908 - val_loss: 0.0679 - val_accuracy: 0.9803\n",
            "Epoch 16/30\n",
            "45/45 [==============================] - 0s 3ms/step - loss: 0.0434 - accuracy: 0.9901 - val_loss: 0.0687 - val_accuracy: 0.9803\n",
            "Epoch 17/30\n",
            "45/45 [==============================] - 0s 2ms/step - loss: 0.0420 - accuracy: 0.9908 - val_loss: 0.0669 - val_accuracy: 0.9803\n",
            "Epoch 18/30\n",
            "45/45 [==============================] - 0s 2ms/step - loss: 0.0425 - accuracy: 0.9901 - val_loss: 0.0683 - val_accuracy: 0.9803\n",
            "Epoch 19/30\n",
            "45/45 [==============================] - 0s 2ms/step - loss: 0.0412 - accuracy: 0.9908 - val_loss: 0.0725 - val_accuracy: 0.9803\n",
            "Epoch 20/30\n",
            "45/45 [==============================] - 0s 2ms/step - loss: 0.0414 - accuracy: 0.9908 - val_loss: 0.0670 - val_accuracy: 0.9803\n",
            "Epoch 21/30\n",
            "45/45 [==============================] - 0s 2ms/step - loss: 0.0413 - accuracy: 0.9908 - val_loss: 0.0652 - val_accuracy: 0.9803\n",
            "Epoch 22/30\n",
            "45/45 [==============================] - 0s 2ms/step - loss: 0.0397 - accuracy: 0.9908 - val_loss: 0.0687 - val_accuracy: 0.9803\n",
            "Epoch 23/30\n",
            "45/45 [==============================] - 0s 2ms/step - loss: 0.0399 - accuracy: 0.9908 - val_loss: 0.0652 - val_accuracy: 0.9803\n",
            "Epoch 24/30\n",
            "45/45 [==============================] - 0s 3ms/step - loss: 0.0395 - accuracy: 0.9908 - val_loss: 0.0708 - val_accuracy: 0.9803\n",
            "Epoch 25/30\n",
            "45/45 [==============================] - 0s 2ms/step - loss: 0.0387 - accuracy: 0.9908 - val_loss: 0.0746 - val_accuracy: 0.9803\n",
            "Epoch 26/30\n",
            "45/45 [==============================] - 0s 2ms/step - loss: 0.0383 - accuracy: 0.9908 - val_loss: 0.0633 - val_accuracy: 0.9803\n",
            "Epoch 27/30\n",
            "45/45 [==============================] - 0s 3ms/step - loss: 0.0402 - accuracy: 0.9908 - val_loss: 0.0686 - val_accuracy: 0.9803\n",
            "Epoch 28/30\n",
            "45/45 [==============================] - 0s 2ms/step - loss: 0.0381 - accuracy: 0.9908 - val_loss: 0.0741 - val_accuracy: 0.9803\n",
            "Epoch 29/30\n",
            "45/45 [==============================] - 0s 2ms/step - loss: 0.0388 - accuracy: 0.9908 - val_loss: 0.0626 - val_accuracy: 0.9803\n",
            "Epoch 30/30\n",
            "45/45 [==============================] - 0s 3ms/step - loss: 0.0398 - accuracy: 0.9908 - val_loss: 0.0610 - val_accuracy: 0.9803\n"
          ]
        }
      ],
      "source": [
        "# Fit the model to the train dataset\n",
        "history = model.fit(x_train, y_train[:,0], epochs=30, validation_split=0.2)"
      ]
    },
    {
      "cell_type": "code",
      "execution_count": 20,
      "metadata": {
        "colab": {
          "base_uri": "https://localhost:8080/",
          "height": 489
        },
        "id": "SxlSDb3CVip-",
        "outputId": "cc8f7a6b-9458-4a78-b066-0ef79ad16e62"
      },
      "outputs": [
        {
          "name": "stdout",
          "output_type": "stream",
          "text": [
            "dict_keys(['loss', 'accuracy', 'val_loss', 'val_accuracy'])\n"
          ]
        },
        {
          "data": {
            "image/png": "[encoded data removed]",
            "text/plain": [
              "<Figure size 432x288 with 1 Axes>"
            ]
          },
          "metadata": {
            "needs_background": "light"
          },
          "output_type": "display_data"
        }
      ],
      "source": [
        "# Show the history of the loss parameters over each epochs\n",
        "plt.plot(history.history['loss'])\n",
        "plt.plot(history.history['val_loss'])\n",
        "plt.title('model loss')\n",
        "plt.ylabel('loss')\n",
        "plt.xlabel('epoch')\n",
        "plt.legend(['train', 'validation'], loc='upper right')\n",
        "plt.yscale('log')\n",
        "plt.grid()\n",
        "plt.show()"
      ]
    },
    {
      "cell_type": "code",
      "execution_count": 21,
      "metadata": {
        "colab": {
          "base_uri": "https://localhost:8080/"
        },
        "id": "iffbkIwlOH-b",
        "outputId": "a4eda2c5-db1d-4f63-980d-784a6b979903"
      },
      "outputs": [
        {
          "name": "stdout",
          "output_type": "stream",
          "text": [
            "14/14 [==============================] - 0s 1ms/step\n",
            "14/14 - 0s - loss: 0.0302 - accuracy: 0.9955 - 41ms/epoch - 3ms/step\n",
            "Test loss: 0.03019736148416996\n",
            "Test accuracy: 0.9954853057861328\n"
          ]
        }
      ],
      "source": [
        "# Make predictions on the test set\n",
        "pred=model.predict(x_test)\n",
        "\n",
        "# Show the eaccuracy of the model\n",
        "test_loss, test_acc = model.evaluate(x_test, y_test[:,0], verbose=2)\n",
        "print(\"Test loss:\", test_loss)\n",
        "print(\"Test accuracy:\", test_acc)"
      ]
    },
    {
      "cell_type": "code",
      "execution_count": null,
      "metadata": {},
      "outputs": [],
      "source": [
        "# output mat file\n",
        "import scipy.io as sio\n",
        "outdict={\"y_test_c\":y_test[:,0],\"y_pred_c\":pred}\n",
        "sio.savemat('y_pred_SLc.mat', outdict)"
      ]
    },
    {
      "cell_type": "markdown",
      "metadata": {
        "id": "yNKd4AX-Uwsq"
      },
      "source": [
        "# Regression"
      ]
    },
    {
      "cell_type": "code",
      "execution_count": 23,
      "metadata": {
        "id": "u32CxA6t7n47"
      },
      "outputs": [],
      "source": [
        "# Create a copy of the dataset\n",
        "x_train_regr = x_train\n",
        "x_test_regr  = x_test\n",
        "\n",
        "# Take only the labels in the second column, the stride length\n",
        "y_train_regr = y_train[:,1]\n",
        "y_test_regr  = y_test[:,1]"
      ]
    },
    {
      "cell_type": "markdown",
      "metadata": {
        "id": "XQoEG5WbDnDX"
      },
      "source": [
        "Swap features when needed"
      ]
    },
    {
      "cell_type": "code",
      "execution_count": 24,
      "metadata": {
        "id": "bCC1O-ugP5P9"
      },
      "outputs": [],
      "source": [
        "# Swap of the columns based on the first column of the labels, which is equal to \"0\" if the lift off foot is the right one \n",
        "for i in range(1,len(x_train_regr)):\n",
        "  if y_train[i,0]==0:\n",
        "    x_train_regr[i,:,[0, 1, 2, 3, 4, 5, 6, 7, 8, 9, 10, 11]] = x_train_regr[i,:,[6, 7, 8, 9, 10, 11, 0, 1, 2, 3, 4, 5]]\n",
        "for i in range(1,len(x_test_regr)):\n",
        "  if pred[i]==False:\n",
        "    x_test_regr[i,:,[0, 1, 2, 3, 4, 5, 6, 7, 8, 9, 10, 11]]  = x_test_regr[i,:,[6, 7, 8, 9, 10, 11, 0, 1, 2, 3, 4, 5]]"
      ]
    },
    {
      "cell_type": "code",
      "execution_count": 27,
      "metadata": {
        "id": "_yR6JVKyAyxC"
      },
      "outputs": [],
      "source": [
        "input_shape = [50,12,1]\n",
        "\n",
        "# Model building\n",
        "model_0 = tf.keras.models.Sequential([\n",
        "          keras.Input(shape=input_shape),\n",
        "          tf.keras.layers.Conv2D(32, kernel_size= (8,1), activation= 'relu', padding= 'SAME'),\n",
        "          tf.keras.layers.Conv2D(64, kernel_size= (4,1), activation='relu', padding= 'SAME'),\n",
        "          tf.keras.layers.MaxPooling2D(pool_size= (2,1), strides= (2,1), padding= 'SAME'),\n",
        "          layers.Dropout(0.5, noise_shape=[None,1,12,64], seed= 42),\n",
        "          layers.Flatten(),\n",
        "          layers.Dense(256, activation= 'relu'),\n",
        "          layers.Dropout(0.1, seed= 42),\n",
        "          layers.Dense(1)\n",
        "                        ])"
      ]
    },
    {
      "cell_type": "code",
      "execution_count": 29,
      "metadata": {
        "id": "_P5Rr2HsU9bH"
      },
      "outputs": [],
      "source": [
        "# Model compilation\n",
        "model_0.compile(optimizer='nadam',\n",
        "                loss=tf.keras.losses.MeanAbsoluteError(reduction=\"auto\"),\n",
        "               )"
      ]
    },
    {
      "cell_type": "code",
      "execution_count": 30,
      "metadata": {
        "colab": {
          "base_uri": "https://localhost:8080/"
        },
        "id": "qxYynyKsU_z0",
        "outputId": "57eb5076-1d08-422d-bfc8-f2af56108bf2"
      },
      "outputs": [
        {
          "name": "stdout",
          "output_type": "stream",
          "text": [
            "Epoch 1/100\n"
          ]
        },
        {
          "name": "stdout",
          "output_type": "stream",
          "text": [
            "45/45 [==============================] - 5s 87ms/step - loss: 0.4520 - val_loss: 0.1899\n",
            "Epoch 2/100\n",
            " 1/45 [..............................] - ETA: 3s - loss: 0.2172"
          ]
        },
        {
          "name": "stderr",
          "output_type": "stream",
          "text": [
            "c:\\Users\\mercu\\AppData\\Local\\Programs\\Python\\Python310\\lib\\site-packages\\keras\\src\\engine\\training.py:3000: UserWarning: You are saving your model as an HDF5 file via `model.save()`. This file format is considered legacy. We recommend using instead the native Keras format, e.g. `model.save('my_model.keras')`.\n",
            "  saving_api.save_model(\n"
          ]
        },
        {
          "name": "stdout",
          "output_type": "stream",
          "text": [
            "45/45 [==============================] - 4s 85ms/step - loss: 0.2135 - val_loss: 0.1050\n",
            "Epoch 3/100\n",
            "45/45 [==============================] - 4s 84ms/step - loss: 0.1803 - val_loss: 0.1016\n",
            "Epoch 4/100\n",
            "45/45 [==============================] - 4s 85ms/step - loss: 0.1700 - val_loss: 0.0938\n",
            "Epoch 5/100\n",
            "45/45 [==============================] - 4s 83ms/step - loss: 0.1661 - val_loss: 0.1034\n",
            "Epoch 6/100\n",
            "45/45 [==============================] - 4s 89ms/step - loss: 0.1607 - val_loss: 0.2704\n",
            "Epoch 7/100\n",
            "45/45 [==============================] - 4s 86ms/step - loss: 0.1600 - val_loss: 0.1317\n",
            "Epoch 8/100\n",
            "45/45 [==============================] - 4s 88ms/step - loss: 0.1492 - val_loss: 0.0823\n",
            "Epoch 9/100\n",
            "45/45 [==============================] - 4s 90ms/step - loss: 0.1491 - val_loss: 0.0724\n",
            "Epoch 10/100\n",
            "45/45 [==============================] - 4s 87ms/step - loss: 0.1516 - val_loss: 0.0916\n",
            "Epoch 11/100\n",
            "45/45 [==============================] - 4s 87ms/step - loss: 0.1449 - val_loss: 0.0859\n",
            "Epoch 12/100\n",
            "45/45 [==============================] - 4s 85ms/step - loss: 0.1469 - val_loss: 0.1942\n",
            "Epoch 13/100\n",
            "45/45 [==============================] - 4s 87ms/step - loss: 0.1479 - val_loss: 0.1499\n",
            "Epoch 14/100\n",
            "45/45 [==============================] - 4s 83ms/step - loss: 0.1431 - val_loss: 0.1034\n",
            "Epoch 15/100\n",
            "45/45 [==============================] - 4s 80ms/step - loss: 0.1427 - val_loss: 0.0851\n",
            "Epoch 16/100\n",
            "45/45 [==============================] - 3s 78ms/step - loss: 0.1380 - val_loss: 0.1080\n",
            "Epoch 17/100\n",
            "45/45 [==============================] - 4s 79ms/step - loss: 0.1411 - val_loss: 0.1563\n",
            "Epoch 18/100\n",
            "45/45 [==============================] - 4s 78ms/step - loss: 0.1365 - val_loss: 0.0759\n",
            "Epoch 19/100\n",
            "45/45 [==============================] - 4s 78ms/step - loss: 0.1357 - val_loss: 0.1136\n",
            "Epoch 20/100\n",
            "45/45 [==============================] - 4s 79ms/step - loss: 0.1335 - val_loss: 0.2793\n",
            "Epoch 21/100\n",
            "45/45 [==============================] - 4s 80ms/step - loss: 0.1402 - val_loss: 0.0705\n",
            "Epoch 22/100\n",
            "45/45 [==============================] - 4s 80ms/step - loss: 0.1351 - val_loss: 0.0716\n",
            "Epoch 23/100\n",
            "45/45 [==============================] - 4s 81ms/step - loss: 0.1335 - val_loss: 0.0767\n",
            "Epoch 24/100\n",
            "45/45 [==============================] - 4s 80ms/step - loss: 0.1359 - val_loss: 0.0812\n",
            "Epoch 25/100\n",
            "45/45 [==============================] - 4s 78ms/step - loss: 0.1324 - val_loss: 0.0717\n",
            "Epoch 26/100\n",
            "45/45 [==============================] - 4s 80ms/step - loss: 0.1304 - val_loss: 0.1188\n",
            "Epoch 27/100\n",
            "45/45 [==============================] - 4s 79ms/step - loss: 0.1283 - val_loss: 0.0710\n",
            "Epoch 28/100\n",
            "45/45 [==============================] - 4s 79ms/step - loss: 0.1278 - val_loss: 0.1611\n",
            "Epoch 29/100\n",
            "45/45 [==============================] - 4s 79ms/step - loss: 0.1282 - val_loss: 0.1034\n",
            "Epoch 30/100\n",
            "45/45 [==============================] - 4s 80ms/step - loss: 0.1266 - val_loss: 0.0899\n",
            "Epoch 31/100\n",
            "45/45 [==============================] - 4s 79ms/step - loss: 0.1320 - val_loss: 0.0745\n",
            "Epoch 32/100\n",
            "45/45 [==============================] - 4s 80ms/step - loss: 0.1222 - val_loss: 0.0740\n",
            "Epoch 33/100\n",
            "45/45 [==============================] - 4s 79ms/step - loss: 0.1237 - val_loss: 0.0821\n",
            "Epoch 34/100\n",
            "45/45 [==============================] - 4s 79ms/step - loss: 0.1263 - val_loss: 0.0766\n",
            "Epoch 35/100\n",
            "45/45 [==============================] - 4s 79ms/step - loss: 0.1240 - val_loss: 0.1337\n",
            "Epoch 36/100\n",
            "45/45 [==============================] - 4s 78ms/step - loss: 0.1230 - val_loss: 0.0748\n",
            "Epoch 37/100\n",
            "45/45 [==============================] - 4s 81ms/step - loss: 0.1254 - val_loss: 0.0689\n",
            "Epoch 38/100\n",
            "45/45 [==============================] - 4s 80ms/step - loss: 0.1172 - val_loss: 0.0777\n",
            "Epoch 39/100\n",
            "45/45 [==============================] - 4s 80ms/step - loss: 0.1228 - val_loss: 0.0743\n",
            "Epoch 40/100\n",
            "45/45 [==============================] - 4s 80ms/step - loss: 0.1185 - val_loss: 0.0953\n",
            "Epoch 41/100\n",
            "45/45 [==============================] - 4s 81ms/step - loss: 0.1194 - val_loss: 0.0917\n",
            "Epoch 42/100\n",
            "45/45 [==============================] - 4s 79ms/step - loss: 0.1192 - val_loss: 0.0966\n",
            "Epoch 43/100\n",
            "45/45 [==============================] - 4s 79ms/step - loss: 0.1177 - val_loss: 0.1093\n",
            "Epoch 44/100\n",
            "45/45 [==============================] - 4s 79ms/step - loss: 0.1212 - val_loss: 0.1228\n",
            "Epoch 45/100\n",
            "45/45 [==============================] - 4s 78ms/step - loss: 0.1157 - val_loss: 0.0888\n",
            "Epoch 46/100\n",
            "45/45 [==============================] - 4s 79ms/step - loss: 0.1131 - val_loss: 0.0688\n",
            "Epoch 47/100\n",
            "45/45 [==============================] - 4s 83ms/step - loss: 0.1139 - val_loss: 0.0666\n",
            "Epoch 48/100\n",
            "45/45 [==============================] - 4s 82ms/step - loss: 0.1140 - val_loss: 0.0649\n",
            "Epoch 49/100\n",
            "45/45 [==============================] - 4s 79ms/step - loss: 0.1080 - val_loss: 0.0810\n",
            "Epoch 50/100\n",
            "45/45 [==============================] - 4s 80ms/step - loss: 0.1144 - val_loss: 0.0763\n",
            "Epoch 51/100\n",
            "45/45 [==============================] - 4s 79ms/step - loss: 0.1162 - val_loss: 0.1104\n",
            "Epoch 52/100\n",
            "45/45 [==============================] - 4s 79ms/step - loss: 0.1109 - val_loss: 0.1087\n",
            "Epoch 53/100\n",
            "45/45 [==============================] - 4s 79ms/step - loss: 0.1101 - val_loss: 0.0799\n",
            "Epoch 54/100\n",
            "45/45 [==============================] - 4s 79ms/step - loss: 0.1108 - val_loss: 0.0856\n",
            "Epoch 55/100\n",
            "45/45 [==============================] - 4s 79ms/step - loss: 0.1099 - val_loss: 0.0723\n",
            "Epoch 56/100\n",
            "45/45 [==============================] - 4s 78ms/step - loss: 0.1106 - val_loss: 0.0736\n",
            "Epoch 57/100\n",
            "45/45 [==============================] - 4s 79ms/step - loss: 0.1056 - val_loss: 0.1103\n",
            "Epoch 58/100\n",
            "45/45 [==============================] - 4s 78ms/step - loss: 0.1071 - val_loss: 0.1113\n",
            "Epoch 59/100\n",
            "45/45 [==============================] - 4s 78ms/step - loss: 0.1091 - val_loss: 0.1502\n",
            "Epoch 60/100\n",
            "45/45 [==============================] - 4s 78ms/step - loss: 0.1121 - val_loss: 0.0770\n",
            "Epoch 61/100\n",
            "45/45 [==============================] - 4s 79ms/step - loss: 0.1102 - val_loss: 0.0910\n",
            "Epoch 62/100\n",
            "45/45 [==============================] - 4s 78ms/step - loss: 0.1024 - val_loss: 0.0905\n",
            "Epoch 63/100\n",
            "45/45 [==============================] - 4s 80ms/step - loss: 0.1039 - val_loss: 0.0647\n",
            "Epoch 64/100\n",
            "45/45 [==============================] - 4s 79ms/step - loss: 0.1042 - val_loss: 0.0671\n",
            "Epoch 65/100\n",
            "45/45 [==============================] - 4s 82ms/step - loss: 0.1032 - val_loss: 0.0700\n",
            "Epoch 66/100\n",
            "45/45 [==============================] - 4s 81ms/step - loss: 0.1028 - val_loss: 0.0702\n",
            "Epoch 67/100\n",
            "45/45 [==============================] - 4s 82ms/step - loss: 0.1022 - val_loss: 0.0705\n",
            "Epoch 68/100\n",
            "45/45 [==============================] - 4s 81ms/step - loss: 0.1068 - val_loss: 0.0762\n",
            "Epoch 69/100\n",
            "45/45 [==============================] - 4s 79ms/step - loss: 0.1025 - val_loss: 0.0648\n",
            "Epoch 70/100\n",
            "45/45 [==============================] - 4s 79ms/step - loss: 0.1005 - val_loss: 0.0774\n",
            "Epoch 71/100\n",
            "45/45 [==============================] - 4s 78ms/step - loss: 0.1005 - val_loss: 0.0818\n",
            "Epoch 72/100\n",
            "45/45 [==============================] - 4s 81ms/step - loss: 0.1018 - val_loss: 0.0692\n",
            "Epoch 73/100\n",
            "45/45 [==============================] - 4s 82ms/step - loss: 0.0959 - val_loss: 0.1335\n",
            "Epoch 74/100\n",
            "45/45 [==============================] - 4s 79ms/step - loss: 0.1012 - val_loss: 0.0777\n",
            "Epoch 75/100\n",
            "45/45 [==============================] - 4s 78ms/step - loss: 0.1009 - val_loss: 0.0774\n",
            "Epoch 76/100\n",
            "45/45 [==============================] - 4s 79ms/step - loss: 0.1008 - val_loss: 0.0895\n",
            "Epoch 77/100\n",
            "45/45 [==============================] - 4s 78ms/step - loss: 0.0954 - val_loss: 0.0731\n",
            "Epoch 78/100\n",
            "45/45 [==============================] - 4s 80ms/step - loss: 0.1042 - val_loss: 0.0820\n",
            "Epoch 79/100\n",
            "45/45 [==============================] - 4s 78ms/step - loss: 0.0998 - val_loss: 0.0820\n",
            "Epoch 80/100\n",
            "45/45 [==============================] - 4s 78ms/step - loss: 0.0947 - val_loss: 0.0711\n",
            "Epoch 81/100\n",
            "45/45 [==============================] - 4s 80ms/step - loss: 0.0965 - val_loss: 0.1012\n",
            "Epoch 82/100\n",
            "45/45 [==============================] - 3s 78ms/step - loss: 0.0987 - val_loss: 0.0796\n",
            "Epoch 83/100\n",
            "45/45 [==============================] - 4s 81ms/step - loss: 0.0990 - val_loss: 0.0640\n",
            "Epoch 84/100\n",
            "45/45 [==============================] - 4s 80ms/step - loss: 0.0929 - val_loss: 0.0868\n",
            "Epoch 85/100\n",
            "45/45 [==============================] - 4s 80ms/step - loss: 0.0965 - val_loss: 0.0806\n",
            "Epoch 86/100\n",
            "45/45 [==============================] - 4s 80ms/step - loss: 0.0948 - val_loss: 0.0696\n",
            "Epoch 87/100\n",
            "45/45 [==============================] - 3s 77ms/step - loss: 0.0899 - val_loss: 0.0938\n",
            "Epoch 88/100\n",
            "45/45 [==============================] - 4s 79ms/step - loss: 0.0921 - val_loss: 0.0712\n",
            "Epoch 89/100\n",
            "45/45 [==============================] - 4s 79ms/step - loss: 0.0918 - val_loss: 0.0991\n",
            "Epoch 90/100\n",
            "45/45 [==============================] - 4s 78ms/step - loss: 0.0916 - val_loss: 0.0707\n",
            "Epoch 91/100\n",
            "45/45 [==============================] - 4s 79ms/step - loss: 0.0926 - val_loss: 0.0756\n",
            "Epoch 92/100\n",
            "45/45 [==============================] - 3s 76ms/step - loss: 0.0894 - val_loss: 0.0792\n",
            "Epoch 93/100\n",
            "45/45 [==============================] - 3s 77ms/step - loss: 0.0945 - val_loss: 0.1093\n",
            "Epoch 94/100\n",
            "45/45 [==============================] - 4s 81ms/step - loss: 0.0927 - val_loss: 0.0828\n",
            "Epoch 95/100\n",
            "45/45 [==============================] - 4s 78ms/step - loss: 0.0917 - val_loss: 0.0640\n",
            "Epoch 96/100\n",
            "45/45 [==============================] - 4s 80ms/step - loss: 0.0897 - val_loss: 0.0657\n",
            "Epoch 97/100\n",
            "45/45 [==============================] - 4s 83ms/step - loss: 0.0883 - val_loss: 0.0638\n",
            "Epoch 98/100\n",
            "45/45 [==============================] - 4s 79ms/step - loss: 0.0902 - val_loss: 0.0655\n",
            "Epoch 99/100\n",
            "45/45 [==============================] - 4s 81ms/step - loss: 0.0864 - val_loss: 0.0645\n",
            "Epoch 100/100\n",
            "45/45 [==============================] - 4s 82ms/step - loss: 0.0890 - val_loss: 0.0649\n"
          ]
        }
      ],
      "source": [
        "# Define a checkpoint for the best model\n",
        "checkpoint_cb = keras.callbacks.ModelCheckpoint(\"best_model.h5\", save_best_only=True)\n",
        "\n",
        "# Fit the model to the train dataset\n",
        "history_0 = model_0.fit(x_train_regr, y_train_regr, epochs=100, validation_split=0.2, callbacks=[checkpoint_cb])\n",
        "\n",
        "# Reload the best model\n",
        "model = keras.models.load_model(\"best_model.h5\")"
      ]
    },
    {
      "cell_type": "code",
      "execution_count": 31,
      "metadata": {
        "colab": {
          "base_uri": "https://localhost:8080/"
        },
        "id": "OQOk-Id-Q7wj",
        "outputId": "e5d84d96-93b6-455b-b203-68d83a510885"
      },
      "outputs": [
        {
          "name": "stdout",
          "output_type": "stream",
          "text": [
            "Min val_loss: 0.06377989053726196\n"
          ]
        }
      ],
      "source": [
        "# Print the MAE on the validation set\n",
        "print('Min val_loss: '+str(min(history_0.history['val_loss'])))"
      ]
    },
    {
      "cell_type": "code",
      "execution_count": 32,
      "metadata": {
        "colab": {
          "base_uri": "https://localhost:8080/",
          "height": 472
        },
        "id": "4uxrz5WjVFCy",
        "outputId": "21ba0b79-d662-4199-ebb2-01df90b366f6"
      },
      "outputs": [
        {
          "data": {
            "image/png": "[encoded data removed]",
            "text/plain": [
              "<Figure size 432x288 with 1 Axes>"
            ]
          },
          "metadata": {
            "needs_background": "light"
          },
          "output_type": "display_data"
        }
      ],
      "source": [
        "# Show the history of the loss parameters over each epochs\n",
        "plt.plot(history_0.history['loss'])\n",
        "plt.plot(history_0.history['val_loss'])\n",
        "plt.axhline(y=0.011, color='r')\n",
        "plt.title('model loss')\n",
        "plt.ylabel('loss')\n",
        "plt.xlabel('epoch')\n",
        "plt.legend(['train', 'validation'], loc='upper right')\n",
        "plt.yscale('log')\n",
        "plt.grid()\n",
        "plt.show()"
      ]
    },
    {
      "cell_type": "code",
      "execution_count": 33,
      "metadata": {
        "colab": {
          "base_uri": "https://localhost:8080/"
        },
        "id": "S4Osqry3LaOG",
        "outputId": "0e25e708-7968-47ea-d5d8-c694cb334616"
      },
      "outputs": [
        {
          "name": "stdout",
          "output_type": "stream",
          "text": [
            "14/14 [==============================] - 0s 8ms/step\n"
          ]
        }
      ],
      "source": [
        "\n",
        "# Sort the sample according to labels ascending order\n",
        "ind = np.argsort( y_test_regr[:] )\n",
        "y_test_sorted = y_test_regr[ind]\n",
        "x_test_sorted = x_test_regr[ind]\n",
        "\n",
        "# Make predictions on the test set\n",
        "pred_0=model_0.predict(x_test_sorted)"
      ]
    },
    {
      "cell_type": "code",
      "execution_count": 34,
      "metadata": {
        "colab": {
          "base_uri": "https://localhost:8080/",
          "height": 449
        },
        "id": "a2L9Bq6FLhKi",
        "outputId": "b7d50437-4767-46a8-b405-1f8ea54a48ec"
      },
      "outputs": [
        {
          "name": "stdout",
          "output_type": "stream",
          "text": [
            "0.060768022730067865\n"
          ]
        },
        {
          "data": {
            "image/png": "[encoded data removed]",
            "text/plain": [
              "<Figure size 432x288 with 1 Axes>"
            ]
          },
          "metadata": {
            "needs_background": "light"
          },
          "output_type": "display_data"
        }
      ],
      "source": [
        "# MAE of the test set\n",
        "print(np.mean(np.abs(pred_0[:,0]-y_test_sorted)))\n",
        "\n",
        "# Show predictions and labels\n",
        "plt.plot(pred_0[:,0]-y_test_sorted,'r.')\n",
        "plt.axhline(y=0, color='b')\n",
        "plt.grid()"
      ]
    },
    {
      "cell_type": "code",
      "execution_count": 35,
      "metadata": {
        "id": "8cmujMSBKIln"
      },
      "outputs": [],
      "source": [
        "# output mat file\n",
        "import scipy.io as sio\n",
        "outdict={\"y_test\":y_test_sorted,\"y_pred\":pred_0[:,0]}\n",
        "sio.savemat('y_pred_SL.mat', outdict)"
      ]
    }
  ],
  "metadata": {
    "accelerator": "GPU",
    "colab": {
      "gpuType": "T4",
      "provenance": []
    },
    "kernelspec": {
      "display_name": "Python 3",
      "name": "python3"
    },
    "language_info": {
      "codemirror_mode": {
        "name": "ipython",
        "version": 3
      },
      "file_extension": ".py",
      "mimetype": "text/x-python",
      "name": "python",
      "nbconvert_exporter": "python",
      "pygments_lexer": "ipython3",
      "version": "3.10.8"
    }
  },
  "nbformat": 4,
  "nbformat_minor": 0
}
