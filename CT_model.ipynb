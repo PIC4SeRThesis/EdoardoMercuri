{
  "cells": [
    {
      "cell_type": "markdown",
      "metadata": {
        "id": "GblqRluoaluh"
      },
      "source": [
        "# Import"
      ]
    },
    {
      "cell_type": "code",
      "execution_count": 4,
      "metadata": {
        "id": "a6YdElFiPCW6"
      },
      "outputs": [],
      "source": [
        "# Libraries import\n",
        "import numpy as np\n",
        "import matplotlib.pyplot as plt\n",
        "import scipy.io\n",
        "from sklearn.model_selection import train_test_split\n",
        "from sklearn.preprocessing import  MinMaxScaler\n",
        "import tensorflow as tf\n",
        "from tensorflow import keras\n",
        "from keras import layers"
      ]
    },
    {
      "cell_type": "code",
      "execution_count": 5,
      "metadata": {
        "id": "9QUx2cmMRxmo"
      },
      "outputs": [],
      "source": [
        "# Datasets import\n",
        "y = scipy.io.loadmat('y_CT.mat')\n",
        "y = y.get('y')\n",
        "x = scipy.io.loadmat('x_CT.mat')\n",
        "x = x.get('x')"
      ]
    },
    {
      "cell_type": "markdown",
      "metadata": {
        "id": "MhspSqs_ae8I"
      },
      "source": [
        "# Preprocessing"
      ]
    },
    {
      "cell_type": "code",
      "execution_count": 9,
      "metadata": {
        "id": "4RTFVOn0hPgy"
      },
      "outputs": [],
      "source": [
        "# Remove outliers\n",
        "delete=np.argwhere((y>0.3)|(y<0.08))\n",
        "y = np.delete(y,delete[:,0])\n",
        "x = np.delete(x,delete[:,0],axis=0)"
      ]
    },
    {
      "cell_type": "code",
      "execution_count": 13,
      "metadata": {
        "id": "HF7NkDEza3HH"
      },
      "outputs": [],
      "source": [
        "Acc_range=16\n",
        "Gyr_range=2000\n",
        "\n",
        "# Scale the samples from 0 to 1\n",
        "x[:,:,0:3] = x[:,:,0:3] / (Acc_range*2*9.81) + 0.5\n",
        "x[:,:,3:6] = x[:,:,3:6]/ (Gyr_range*2) + 0.5"
      ]
    },
    {
      "cell_type": "code",
      "execution_count": 14,
      "metadata": {
        "id": "2UnXNdLC61BQ"
      },
      "outputs": [],
      "source": [
        "# Function to split a portion of data from the dataset and create a train and a test set\n",
        "x_train, x_test, y_train, y_test = train_test_split(x, y, test_size=0.2, random_state=42)"
      ]
    },
    {
      "cell_type": "markdown",
      "metadata": {
        "id": "Hz4HewX-ty0j"
      },
      "source": [
        "# Keras sequential"
      ]
    },
    {
      "cell_type": "code",
      "execution_count": 19,
      "metadata": {
        "id": "TdP6h6kFjDqa"
      },
      "outputs": [],
      "source": [
        "input_shape = [41,6,1]\n",
        "\n",
        "# Model building\n",
        "model = tf.keras.models.Sequential([\n",
        "          keras.Input(shape=input_shape),\n",
        "          tf.keras.layers.Conv2D(32, kernel_size= (8,1), activation= 'relu', padding= 'SAME'),\n",
        "          tf.keras.layers.Conv2D(64, kernel_size= (4,1), activation='relu', padding= 'SAME'),\n",
        "          tf.keras.layers.MaxPooling2D(pool_size= (2,1), strides= (2,1), padding= 'SAME'),\n",
        "          layers.Dropout(0.5, noise_shape=[None,1,6,64], seed= 42),\n",
        "          layers.Flatten(),\n",
        "          layers.Dense(256, activation= 'softmax'),\n",
        "          layers.Dropout(0.1, seed= 42),\n",
        "          layers.Dense(1)\n",
        "                        ])"
      ]
    },
    {
      "cell_type": "code",
      "execution_count": 21,
      "metadata": {
        "id": "BK2afR6huWQ_"
      },
      "outputs": [],
      "source": [
        "# Model compilation\n",
        "model.compile(optimizer='nadam',\n",
        "              loss=tf.keras.losses.MeanAbsoluteError(reduction= \"auto\", name= \"mean_absolute_error\")\n",
        "              )"
      ]
    },
    {
      "cell_type": "code",
      "execution_count": 22,
      "metadata": {
        "colab": {
          "base_uri": "https://localhost:8080/"
        },
        "id": "q_BVXMCS2zC5",
        "outputId": "b2d2b607-4cc1-4425-f4da-eb0509ff47af"
      },
      "outputs": [
        {
          "name": "stdout",
          "output_type": "stream",
          "text": [
            "Epoch 1/100\n",
            "34/34 [==============================] - 3s 38ms/step - loss: 0.0529 - val_loss: 0.0198\n",
            "Epoch 2/100\n",
            " 5/34 [===>..........................] - ETA: 0s - loss: 0.0270"
          ]
        },
        {
          "name": "stderr",
          "output_type": "stream",
          "text": [
            "c:\\Users\\mercu\\AppData\\Local\\Programs\\Python\\Python310\\lib\\site-packages\\keras\\src\\engine\\training.py:3000: UserWarning: You are saving your model as an HDF5 file via `model.save()`. This file format is considered legacy. We recommend using instead the native Keras format, e.g. `model.save('my_model.keras')`.\n",
            "  saving_api.save_model(\n"
          ]
        },
        {
          "name": "stdout",
          "output_type": "stream",
          "text": [
            "34/34 [==============================] - 1s 32ms/step - loss: 0.0248 - val_loss: 0.0199\n",
            "Epoch 3/100\n",
            "34/34 [==============================] - 1s 34ms/step - loss: 0.0236 - val_loss: 0.0199\n",
            "Epoch 4/100\n",
            "34/34 [==============================] - 1s 34ms/step - loss: 0.0228 - val_loss: 0.0198\n",
            "Epoch 5/100\n",
            "34/34 [==============================] - 1s 35ms/step - loss: 0.0223 - val_loss: 0.0199\n",
            "Epoch 6/100\n",
            "34/34 [==============================] - 1s 38ms/step - loss: 0.0224 - val_loss: 0.0196\n",
            "Epoch 7/100\n",
            "34/34 [==============================] - 1s 41ms/step - loss: 0.0218 - val_loss: 0.0189\n",
            "Epoch 8/100\n",
            "34/34 [==============================] - 1s 38ms/step - loss: 0.0212 - val_loss: 0.0175\n",
            "Epoch 9/100\n",
            "34/34 [==============================] - 1s 38ms/step - loss: 0.0199 - val_loss: 0.0170\n",
            "Epoch 10/100\n",
            "34/34 [==============================] - 1s 38ms/step - loss: 0.0189 - val_loss: 0.0157\n",
            "Epoch 11/100\n",
            "34/34 [==============================] - 1s 36ms/step - loss: 0.0181 - val_loss: 0.0158\n",
            "Epoch 12/100\n",
            "34/34 [==============================] - 1s 37ms/step - loss: 0.0175 - val_loss: 0.0147\n",
            "Epoch 13/100\n",
            "34/34 [==============================] - 1s 38ms/step - loss: 0.0168 - val_loss: 0.0145\n",
            "Epoch 14/100\n",
            "34/34 [==============================] - 1s 36ms/step - loss: 0.0168 - val_loss: 0.0163\n",
            "Epoch 15/100\n",
            "34/34 [==============================] - 1s 37ms/step - loss: 0.0161 - val_loss: 0.0143\n",
            "Epoch 16/100\n",
            "34/34 [==============================] - 1s 38ms/step - loss: 0.0159 - val_loss: 0.0143\n",
            "Epoch 17/100\n",
            "34/34 [==============================] - 1s 39ms/step - loss: 0.0157 - val_loss: 0.0141\n",
            "Epoch 18/100\n",
            "34/34 [==============================] - 1s 38ms/step - loss: 0.0159 - val_loss: 0.0139\n",
            "Epoch 19/100\n",
            "34/34 [==============================] - 1s 39ms/step - loss: 0.0151 - val_loss: 0.0142\n",
            "Epoch 20/100\n",
            "34/34 [==============================] - 1s 35ms/step - loss: 0.0154 - val_loss: 0.0143\n",
            "Epoch 21/100\n",
            "34/34 [==============================] - 1s 35ms/step - loss: 0.0149 - val_loss: 0.0141\n",
            "Epoch 22/100\n",
            "34/34 [==============================] - 1s 39ms/step - loss: 0.0150 - val_loss: 0.0138\n",
            "Epoch 23/100\n",
            "34/34 [==============================] - 1s 36ms/step - loss: 0.0147 - val_loss: 0.0141\n",
            "Epoch 24/100\n",
            "34/34 [==============================] - 1s 35ms/step - loss: 0.0145 - val_loss: 0.0140\n",
            "Epoch 25/100\n",
            "34/34 [==============================] - 1s 37ms/step - loss: 0.0144 - val_loss: 0.0143\n",
            "Epoch 26/100\n",
            "34/34 [==============================] - 1s 39ms/step - loss: 0.0144 - val_loss: 0.0137\n",
            "Epoch 27/100\n",
            "34/34 [==============================] - 1s 42ms/step - loss: 0.0147 - val_loss: 0.0135\n",
            "Epoch 28/100\n",
            "34/34 [==============================] - 1s 41ms/step - loss: 0.0141 - val_loss: 0.0137\n",
            "Epoch 29/100\n",
            "34/34 [==============================] - 1s 38ms/step - loss: 0.0139 - val_loss: 0.0148\n",
            "Epoch 30/100\n",
            "34/34 [==============================] - 1s 39ms/step - loss: 0.0142 - val_loss: 0.0138\n",
            "Epoch 31/100\n",
            "34/34 [==============================] - 1s 41ms/step - loss: 0.0136 - val_loss: 0.0150\n",
            "Epoch 32/100\n",
            "34/34 [==============================] - 1s 37ms/step - loss: 0.0139 - val_loss: 0.0140\n",
            "Epoch 33/100\n",
            "34/34 [==============================] - 1s 40ms/step - loss: 0.0135 - val_loss: 0.0132\n",
            "Epoch 34/100\n",
            "34/34 [==============================] - 1s 37ms/step - loss: 0.0136 - val_loss: 0.0134\n",
            "Epoch 35/100\n",
            "34/34 [==============================] - 1s 37ms/step - loss: 0.0132 - val_loss: 0.0144\n",
            "Epoch 36/100\n",
            "34/34 [==============================] - 1s 37ms/step - loss: 0.0135 - val_loss: 0.0143\n",
            "Epoch 37/100\n",
            "34/34 [==============================] - 1s 36ms/step - loss: 0.0133 - val_loss: 0.0134\n",
            "Epoch 38/100\n",
            "34/34 [==============================] - 1s 35ms/step - loss: 0.0132 - val_loss: 0.0138\n",
            "Epoch 39/100\n",
            "34/34 [==============================] - 1s 39ms/step - loss: 0.0132 - val_loss: 0.0132\n",
            "Epoch 40/100\n",
            "34/34 [==============================] - 1s 42ms/step - loss: 0.0132 - val_loss: 0.0132\n",
            "Epoch 41/100\n",
            "34/34 [==============================] - 1s 39ms/step - loss: 0.0128 - val_loss: 0.0153\n",
            "Epoch 42/100\n",
            "34/34 [==============================] - 2s 45ms/step - loss: 0.0132 - val_loss: 0.0138\n",
            "Epoch 43/100\n",
            "34/34 [==============================] - 1s 40ms/step - loss: 0.0128 - val_loss: 0.0134\n",
            "Epoch 44/100\n",
            "34/34 [==============================] - 1s 40ms/step - loss: 0.0130 - val_loss: 0.0142\n",
            "Epoch 45/100\n",
            "34/34 [==============================] - 1s 40ms/step - loss: 0.0129 - val_loss: 0.0136\n",
            "Epoch 46/100\n",
            "34/34 [==============================] - 1s 41ms/step - loss: 0.0126 - val_loss: 0.0139\n",
            "Epoch 47/100\n",
            "34/34 [==============================] - 1s 44ms/step - loss: 0.0125 - val_loss: 0.0136\n",
            "Epoch 48/100\n",
            "34/34 [==============================] - 2s 44ms/step - loss: 0.0124 - val_loss: 0.0142\n",
            "Epoch 49/100\n",
            "34/34 [==============================] - 1s 43ms/step - loss: 0.0122 - val_loss: 0.0133\n",
            "Epoch 50/100\n",
            "34/34 [==============================] - 1s 40ms/step - loss: 0.0124 - val_loss: 0.0133\n",
            "Epoch 51/100\n",
            "34/34 [==============================] - 1s 42ms/step - loss: 0.0124 - val_loss: 0.0130\n",
            "Epoch 52/100\n",
            "34/34 [==============================] - 1s 40ms/step - loss: 0.0123 - val_loss: 0.0133\n",
            "Epoch 53/100\n",
            "34/34 [==============================] - 1s 42ms/step - loss: 0.0119 - val_loss: 0.0131\n",
            "Epoch 54/100\n",
            "34/34 [==============================] - 1s 39ms/step - loss: 0.0119 - val_loss: 0.0137\n",
            "Epoch 55/100\n",
            "34/34 [==============================] - 1s 39ms/step - loss: 0.0119 - val_loss: 0.0138\n",
            "Epoch 56/100\n",
            "34/34 [==============================] - 1s 38ms/step - loss: 0.0120 - val_loss: 0.0137\n",
            "Epoch 57/100\n",
            "34/34 [==============================] - 1s 38ms/step - loss: 0.0118 - val_loss: 0.0136\n",
            "Epoch 58/100\n",
            "34/34 [==============================] - 1s 40ms/step - loss: 0.0121 - val_loss: 0.0131\n",
            "Epoch 59/100\n",
            "34/34 [==============================] - 1s 41ms/step - loss: 0.0118 - val_loss: 0.0137\n",
            "Epoch 60/100\n",
            "34/34 [==============================] - 1s 39ms/step - loss: 0.0116 - val_loss: 0.0136\n",
            "Epoch 61/100\n",
            "34/34 [==============================] - 1s 38ms/step - loss: 0.0114 - val_loss: 0.0133\n",
            "Epoch 62/100\n",
            "34/34 [==============================] - 1s 40ms/step - loss: 0.0111 - val_loss: 0.0133\n",
            "Epoch 63/100\n",
            "34/34 [==============================] - 1s 41ms/step - loss: 0.0118 - val_loss: 0.0133\n",
            "Epoch 64/100\n",
            "34/34 [==============================] - 1s 42ms/step - loss: 0.0112 - val_loss: 0.0131\n",
            "Epoch 65/100\n",
            "34/34 [==============================] - 1s 39ms/step - loss: 0.0113 - val_loss: 0.0134\n",
            "Epoch 66/100\n",
            "34/34 [==============================] - 1s 36ms/step - loss: 0.0111 - val_loss: 0.0134\n",
            "Epoch 67/100\n",
            "34/34 [==============================] - 1s 36ms/step - loss: 0.0109 - val_loss: 0.0135\n",
            "Epoch 68/100\n",
            "34/34 [==============================] - 1s 36ms/step - loss: 0.0110 - val_loss: 0.0135\n",
            "Epoch 69/100\n",
            "34/34 [==============================] - 1s 36ms/step - loss: 0.0111 - val_loss: 0.0136\n",
            "Epoch 70/100\n",
            "34/34 [==============================] - 1s 38ms/step - loss: 0.0104 - val_loss: 0.0136\n",
            "Epoch 71/100\n",
            "34/34 [==============================] - 1s 38ms/step - loss: 0.0105 - val_loss: 0.0131\n",
            "Epoch 72/100\n",
            "34/34 [==============================] - 1s 37ms/step - loss: 0.0108 - val_loss: 0.0135\n",
            "Epoch 73/100\n",
            "34/34 [==============================] - 1s 38ms/step - loss: 0.0107 - val_loss: 0.0135\n",
            "Epoch 74/100\n",
            "34/34 [==============================] - 1s 36ms/step - loss: 0.0104 - val_loss: 0.0131\n",
            "Epoch 75/100\n",
            "34/34 [==============================] - 1s 36ms/step - loss: 0.0103 - val_loss: 0.0135\n",
            "Epoch 76/100\n",
            "34/34 [==============================] - 1s 36ms/step - loss: 0.0105 - val_loss: 0.0134\n",
            "Epoch 77/100\n",
            "34/34 [==============================] - 1s 35ms/step - loss: 0.0100 - val_loss: 0.0136\n",
            "Epoch 78/100\n",
            "34/34 [==============================] - 1s 36ms/step - loss: 0.0101 - val_loss: 0.0135\n",
            "Epoch 79/100\n",
            "34/34 [==============================] - 1s 36ms/step - loss: 0.0101 - val_loss: 0.0136\n",
            "Epoch 80/100\n",
            "34/34 [==============================] - 1s 36ms/step - loss: 0.0098 - val_loss: 0.0136\n",
            "Epoch 81/100\n",
            "34/34 [==============================] - 1s 37ms/step - loss: 0.0101 - val_loss: 0.0133\n",
            "Epoch 82/100\n",
            "34/34 [==============================] - 1s 36ms/step - loss: 0.0095 - val_loss: 0.0136\n",
            "Epoch 83/100\n",
            "34/34 [==============================] - 1s 37ms/step - loss: 0.0098 - val_loss: 0.0131\n",
            "Epoch 84/100\n",
            "34/34 [==============================] - 1s 37ms/step - loss: 0.0098 - val_loss: 0.0136\n",
            "Epoch 85/100\n",
            "34/34 [==============================] - 1s 37ms/step - loss: 0.0096 - val_loss: 0.0135\n",
            "Epoch 86/100\n",
            "34/34 [==============================] - 1s 36ms/step - loss: 0.0098 - val_loss: 0.0135\n",
            "Epoch 87/100\n",
            "34/34 [==============================] - 1s 37ms/step - loss: 0.0095 - val_loss: 0.0135\n",
            "Epoch 88/100\n",
            "34/34 [==============================] - 1s 37ms/step - loss: 0.0095 - val_loss: 0.0131\n",
            "Epoch 89/100\n",
            "34/34 [==============================] - 1s 36ms/step - loss: 0.0096 - val_loss: 0.0146\n",
            "Epoch 90/100\n",
            "34/34 [==============================] - 1s 36ms/step - loss: 0.0094 - val_loss: 0.0132\n",
            "Epoch 91/100\n",
            "34/34 [==============================] - 1s 36ms/step - loss: 0.0090 - val_loss: 0.0134\n",
            "Epoch 92/100\n",
            "34/34 [==============================] - 1s 35ms/step - loss: 0.0091 - val_loss: 0.0133\n",
            "Epoch 93/100\n",
            "34/34 [==============================] - 1s 37ms/step - loss: 0.0091 - val_loss: 0.0141\n",
            "Epoch 94/100\n",
            "34/34 [==============================] - 1s 36ms/step - loss: 0.0092 - val_loss: 0.0134\n",
            "Epoch 95/100\n",
            "34/34 [==============================] - 1s 37ms/step - loss: 0.0090 - val_loss: 0.0136\n",
            "Epoch 96/100\n",
            "34/34 [==============================] - 1s 36ms/step - loss: 0.0086 - val_loss: 0.0135\n",
            "Epoch 97/100\n",
            "34/34 [==============================] - 1s 38ms/step - loss: 0.0090 - val_loss: 0.0138\n",
            "Epoch 98/100\n",
            "34/34 [==============================] - 1s 37ms/step - loss: 0.0087 - val_loss: 0.0144\n",
            "Epoch 99/100\n",
            "34/34 [==============================] - 1s 34ms/step - loss: 0.0084 - val_loss: 0.0134\n",
            "Epoch 100/100\n",
            "34/34 [==============================] - 1s 35ms/step - loss: 0.0087 - val_loss: 0.0138\n"
          ]
        }
      ],
      "source": [
        "# Define a checkpoint for the best model\n",
        "checkpoint_cb = keras.callbacks.ModelCheckpoint(\"best_model.h5\", save_best_only=True)\n",
        "\n",
        "# Fit the model to the train dataset\n",
        "history = model.fit(x_train, y_train, epochs=100, validation_split=0.2, callbacks=[checkpoint_cb])\n",
        "\n",
        "# Reload the best model\n",
        "model = keras.models.load_model(\"best_model.h5\")"
      ]
    },
    {
      "cell_type": "code",
      "execution_count": 23,
      "metadata": {
        "colab": {
          "base_uri": "https://localhost:8080/"
        },
        "id": "0ZUZzEj_wVeo",
        "outputId": "44ae359f-2870-45c3-86c5-44ed17ec60f6"
      },
      "outputs": [
        {
          "name": "stdout",
          "output_type": "stream",
          "text": [
            "Min val_loss: 0.013044219464063644\n"
          ]
        }
      ],
      "source": [
        "# Print the MAE on the validation set\n",
        "print('Min val_loss: '+str(min(history.history['val_loss'])))"
      ]
    },
    {
      "cell_type": "code",
      "execution_count": 24,
      "metadata": {
        "colab": {
          "base_uri": "https://localhost:8080/",
          "height": 472
        },
        "id": "SxlSDb3CVip-",
        "outputId": "7d6eba9e-f45e-440e-8cd0-c366c68fafb8"
      },
      "outputs": [
        {
          "data": {
            "image/png": "[encoded data removed]",
            "text/plain": [
              "<Figure size 432x288 with 1 Axes>"
            ]
          },
          "metadata": {
            "needs_background": "light"
          },
          "output_type": "display_data"
        }
      ],
      "source": [
        "# Show the history of the loss parameters over each epochs\n",
        "plt.plot(history.history['loss'])\n",
        "plt.plot(history.history['val_loss'])\n",
        "plt.axhline(y=0.005, color='r')\n",
        "plt.title('model loss')\n",
        "plt.ylabel('loss')\n",
        "plt.xlabel('epoch')\n",
        "plt.legend(['train', 'validation'], loc='upper right')\n",
        "plt.yscale('log')\n",
        "plt.grid()\n",
        "plt.show()"
      ]
    },
    {
      "cell_type": "code",
      "execution_count": 25,
      "metadata": {
        "colab": {
          "base_uri": "https://localhost:8080/"
        },
        "id": "S4Osqry3LaOG",
        "outputId": "29989c1b-8363-4cfa-90d8-50f0bcc79b2d"
      },
      "outputs": [
        {
          "name": "stdout",
          "output_type": "stream",
          "text": [
            "11/11 [==============================] - 0s 4ms/step\n"
          ]
        }
      ],
      "source": [
        "# Sort the sample according to labels ascending order\n",
        "ind = np.argsort( y_test )\n",
        "y_test_sorted = y_test[ind]\n",
        "x_test_sorted = x_test[ind]\n",
        "\n",
        "# Make predictions on the test set\n",
        "pred=model.predict(x_test_sorted)"
      ]
    },
    {
      "cell_type": "code",
      "execution_count": 26,
      "metadata": {
        "colab": {
          "base_uri": "https://localhost:8080/"
        },
        "id": "-ZejtW-zZL34",
        "outputId": "bb996d4c-37bd-4f2e-99c7-f5aa28f8f7c3"
      },
      "outputs": [
        {
          "name": "stdout",
          "output_type": "stream",
          "text": [
            "0.013127831065369255\n"
          ]
        }
      ],
      "source": [
        "# MAE of the test set\n",
        "print(np.mean(np.abs(pred[:,0]-y_test_sorted)))"
      ]
    },
    {
      "cell_type": "code",
      "execution_count": 27,
      "metadata": {
        "colab": {
          "base_uri": "https://localhost:8080/",
          "height": 472
        },
        "id": "Jel_Rqn_4rDS",
        "outputId": "6373a0ea-2dc1-4556-8a94-a4b89823339a"
      },
      "outputs": [
        {
          "data": {
            "image/png": "[encoded data removed]",
            "text/plain": [
              "<Figure size 432x288 with 1 Axes>"
            ]
          },
          "metadata": {
            "needs_background": "light"
          },
          "output_type": "display_data"
        }
      ],
      "source": [
        "# Show predictions and labels\n",
        "plt.plot(y_test_sorted*1000,'b.',pred*1000,'r.')\n",
        "# plt.axhline(y=0, color='b')\n",
        "plt.title('Predizioni del modello')\n",
        "plt.ylabel('Tempo di contatto [ms]')\n",
        "plt.xlabel('n° test')\n",
        "plt.legend(['Predizione', 'Valore esatto'], loc='upper left')\n",
        "plt.grid()"
      ]
    },
    {
      "cell_type": "code",
      "execution_count": 28,
      "metadata": {
        "colab": {
          "base_uri": "https://localhost:8080/",
          "height": 552
        },
        "id": "0-BWfSTKZQRy",
        "outputId": "5c37bcd6-ea92-47f5-f326-0b92761d136c"
      },
      "outputs": [
        {
          "data": {
            "text/plain": [
              "(array([ 8., 11., 24., 27., 52., 56., 36., 46., 34., 15., 15.,  2.,  2.,\n",
              "         2.,  4.]),\n",
              " array([0.13358527, 0.13985898, 0.14613268, 0.1524064 , 0.1586801 ,\n",
              "        0.1649538 , 0.1712275 , 0.1775012 , 0.18377492, 0.19004862,\n",
              "        0.19632232, 0.20259602, 0.20886973, 0.21514344, 0.22141714,\n",
              "        0.22769085], dtype=float32),\n",
              " <BarContainer object of 15 artists>)"
            ]
          },
          "execution_count": 28,
          "metadata": {},
          "output_type": "execute_result"
        },
        {
          "data": {
            "image/png": "[encoded data removed]",
            "text/plain": [
              "<Figure size 432x288 with 1 Axes>"
            ]
          },
          "metadata": {
            "needs_background": "light"
          },
          "output_type": "display_data"
        }
      ],
      "source": [
        "# Show histogram of predictions and labels\n",
        "bins=((max(y_test_sorted)-min(y_test_sorted))/0.005)\n",
        "plt.hist(y_test_sorted,int(bins),alpha=0.5)\n",
        "plt.hist(pred,int(bins/2.3),alpha=0.5)"
      ]
    },
    {
      "cell_type": "code",
      "execution_count": 29,
      "metadata": {
        "id": "QnIgiTRjp80N"
      },
      "outputs": [],
      "source": [
        "# output mat file\n",
        "import scipy.io as sio\n",
        "outdict={\"y_test\":y_test_sorted,\"y_pred\":pred}\n",
        "sio.savemat('y_predCT.mat', outdict)"
      ]
    }
  ],
  "metadata": {
    "accelerator": "GPU",
    "colab": {
      "gpuType": "T4",
      "provenance": []
    },
    "kernelspec": {
      "display_name": "Python 3",
      "name": "python3"
    },
    "language_info": {
      "codemirror_mode": {
        "name": "ipython",
        "version": 3
      },
      "file_extension": ".py",
      "mimetype": "text/x-python",
      "name": "python",
      "nbconvert_exporter": "python",
      "pygments_lexer": "ipython3",
      "version": "3.10.8"
    }
  },
  "nbformat": 4,
  "nbformat_minor": 0
}
